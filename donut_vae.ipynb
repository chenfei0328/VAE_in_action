{
 "cells": [
  {
   "cell_type": "code",
   "execution_count": 1,
   "metadata": {},
   "outputs": [],
   "source": [
    "import numpy as np\n",
    "import pandas as pd\n",
    "import torch\n",
    "import torch.nn.functional as F\n",
    "from torch import optim\n",
    "from torch import autograd\n",
    "from torch.utils.data import DataLoader, TensorDataset\n",
    "from torch import nn\n",
    "\n",
    "import matplotlib.pyplot as plt\n",
    "%matplotlib inline\n",
    "from torchvision import transforms as tfs\n",
    "from torchvision.utils import save_image\n",
    "\n",
    "from datetime import datetime\n",
    "from tqdm import tqdm\n",
    "import os"
   ]
  },
  {
   "cell_type": "code",
   "execution_count": 2,
   "metadata": {},
   "outputs": [],
   "source": [
    "EPOCH = 250\n",
    "BATCH_SIZE = 256\n",
    "LEARNING_RATE = 1e-3\n",
    "WINDOW_SIZE = 120\n",
    "LAMDA = 0.01\n",
    "L = 1024\n",
    "K = 3\n",
    "epsilon = 1e-4\n",
    "\n",
    "# 训练时才会标准化\n",
    "im_tfs = tfs.Compose([\n",
    "    # 先将输入归一化到(0,1)，再使用公式”(x-mean)/std”，将每个元素分布到(-1,1) \n",
    "    tfs.ToTensor(),\n",
    "    tfs.Normalize([0.5], [0.5])\n",
    "])"
   ]
  },
  {
   "cell_type": "code",
   "execution_count": 3,
   "metadata": {
    "scrolled": true
   },
   "outputs": [
    {
     "name": "stdout",
     "output_type": "stream",
     "text": [
      "[0.01260368 0.01778577 0.01201359 ... 0.00867589 0.02922801 0.02904138]\n"
     ]
    }
   ],
   "source": [
    "# 这两个文件的异常区间还比较异常一点\n",
    "data_path = '~/donut/sample_data/g.csv'\n",
    "#data_path = '~/donut/sample_data/server_res_eth1out_curve_61.csv'\n",
    "\n",
    "df = pd.read_csv(data_path)\n",
    "\n",
    "train_x = np.array(df['value'])\n",
    "train_l = np.array(df['label'])\n",
    "\n",
    "print(train_x)"
   ]
  },
  {
   "cell_type": "code",
   "execution_count": 4,
   "metadata": {},
   "outputs": [
    {
     "name": "stdout",
     "output_type": "stream",
     "text": [
      "0\n",
      "tensor([[0.0014, 0.0021, 0.0013,  ..., 0.0119, 0.0088, 0.0090],\n",
      "        [0.0385, 0.0360, 0.0317,  ..., 0.0343, 0.0237, 0.0221],\n",
      "        [0.1211, 0.1338, 0.1458,  ..., 0.0473, 0.0614, 0.0730],\n",
      "        ...,\n",
      "        [0.0046, 0.0019, 0.0017,  ..., 0.0004, 0.0011, 0.0004],\n",
      "        [0.0537, 0.0667, 0.0504,  ..., 0.0198, 0.0265, 0.0392],\n",
      "        [0.0499, 0.0518, 0.0517,  ..., 0.1036, 0.0812, 0.0950]])\n",
      "tensor([[4.2055e+04],\n",
      "        [9.9221e+04],\n",
      "        [4.1432e+04],\n",
      "        [1.1986e+05],\n",
      "        [7.9108e+04],\n",
      "        [1.0646e+05],\n",
      "        [1.0437e+05],\n",
      "        [1.2464e+05],\n",
      "        [4.1819e+04],\n",
      "        [1.1383e+05],\n",
      "        [1.1904e+05],\n",
      "        [2.9190e+04],\n",
      "        [1.1906e+05],\n",
      "        [4.5950e+04],\n",
      "        [7.9713e+04],\n",
      "        [1.0000e+05],\n",
      "        [8.8650e+04],\n",
      "        [3.1278e+04],\n",
      "        [7.8282e+04],\n",
      "        [5.8510e+03],\n",
      "        [5.4342e+04],\n",
      "        [1.4346e+04],\n",
      "        [5.4700e+02],\n",
      "        [2.3197e+04],\n",
      "        [1.1745e+05],\n",
      "        [6.0822e+04],\n",
      "        [4.7698e+04],\n",
      "        [8.3223e+04],\n",
      "        [9.8714e+04],\n",
      "        [9.3750e+03],\n",
      "        [1.2687e+05],\n",
      "        [8.0008e+04],\n",
      "        [8.8375e+04],\n",
      "        [1.1106e+05],\n",
      "        [1.2805e+05],\n",
      "        [9.7124e+04],\n",
      "        [4.2522e+04],\n",
      "        [6.1144e+04],\n",
      "        [1.1176e+05],\n",
      "        [3.4402e+04],\n",
      "        [5.7533e+04],\n",
      "        [6.5414e+04],\n",
      "        [3.6780e+04],\n",
      "        [1.2687e+05],\n",
      "        [3.0373e+04],\n",
      "        [5.2292e+04],\n",
      "        [1.7181e+04],\n",
      "        [6.8025e+04],\n",
      "        [5.5813e+04],\n",
      "        [7.4753e+04],\n",
      "        [9.4593e+04],\n",
      "        [6.5245e+04],\n",
      "        [1.0351e+05],\n",
      "        [1.0559e+05],\n",
      "        [9.9749e+04],\n",
      "        [2.6315e+04],\n",
      "        [9.7696e+04],\n",
      "        [1.2600e+05],\n",
      "        [4.7468e+04],\n",
      "        [1.0868e+05],\n",
      "        [7.5741e+04],\n",
      "        [9.8576e+04],\n",
      "        [8.0495e+04],\n",
      "        [1.2409e+05],\n",
      "        [1.1647e+05],\n",
      "        [1.0396e+05],\n",
      "        [1.2876e+05],\n",
      "        [8.3523e+04],\n",
      "        [1.2188e+05],\n",
      "        [1.2128e+05],\n",
      "        [1.9715e+04],\n",
      "        [1.0643e+05],\n",
      "        [8.8381e+04],\n",
      "        [5.6946e+04],\n",
      "        [6.6327e+04],\n",
      "        [1.0549e+05],\n",
      "        [1.2000e+02],\n",
      "        [1.1264e+05],\n",
      "        [7.9734e+04],\n",
      "        [3.8771e+04],\n",
      "        [7.0710e+04],\n",
      "        [1.1226e+05],\n",
      "        [1.2490e+05],\n",
      "        [8.4007e+04],\n",
      "        [6.9450e+04],\n",
      "        [8.7385e+04],\n",
      "        [9.8902e+04],\n",
      "        [2.3837e+04],\n",
      "        [1.0449e+05],\n",
      "        [7.4898e+04],\n",
      "        [1.1543e+05],\n",
      "        [9.7820e+04],\n",
      "        [3.5101e+04],\n",
      "        [6.1678e+04],\n",
      "        [7.4503e+04],\n",
      "        [1.2533e+05],\n",
      "        [9.9470e+03],\n",
      "        [1.1650e+05],\n",
      "        [9.6481e+04],\n",
      "        [9.0534e+04],\n",
      "        [2.9784e+04],\n",
      "        [9.8740e+03],\n",
      "        [6.3103e+04],\n",
      "        [1.7694e+04],\n",
      "        [3.2403e+04],\n",
      "        [5.9289e+04],\n",
      "        [6.9223e+04],\n",
      "        [5.0813e+04],\n",
      "        [8.5946e+04],\n",
      "        [1.1810e+05],\n",
      "        [4.0838e+04],\n",
      "        [2.1067e+04],\n",
      "        [2.2810e+03],\n",
      "        [6.0100e+04],\n",
      "        [5.3704e+04],\n",
      "        [1.0960e+04],\n",
      "        [1.0090e+05],\n",
      "        [2.9246e+04],\n",
      "        [7.8320e+04],\n",
      "        [3.8585e+04],\n",
      "        [1.1739e+05],\n",
      "        [7.0194e+04],\n",
      "        [6.9671e+04],\n",
      "        [2.5537e+04],\n",
      "        [6.4977e+04],\n",
      "        [1.9137e+04],\n",
      "        [1.1212e+05],\n",
      "        [1.6883e+04],\n",
      "        [1.0109e+05],\n",
      "        [5.0049e+04],\n",
      "        [1.1061e+05],\n",
      "        [7.4052e+04],\n",
      "        [8.2450e+03],\n",
      "        [3.4129e+04],\n",
      "        [5.4150e+03],\n",
      "        [4.5640e+03],\n",
      "        [6.3864e+04],\n",
      "        [1.8051e+04],\n",
      "        [4.4854e+04],\n",
      "        [1.1730e+05],\n",
      "        [4.3162e+04],\n",
      "        [1.7360e+03],\n",
      "        [1.1299e+04],\n",
      "        [4.3157e+04],\n",
      "        [7.8977e+04],\n",
      "        [7.0007e+04],\n",
      "        [1.3855e+04],\n",
      "        [1.2855e+05],\n",
      "        [2.6647e+04],\n",
      "        [1.1530e+05],\n",
      "        [5.5961e+04],\n",
      "        [9.6900e+04],\n",
      "        [6.0880e+04],\n",
      "        [4.8658e+04],\n",
      "        [1.0306e+05],\n",
      "        [4.4800e+03],\n",
      "        [1.9387e+04],\n",
      "        [1.2062e+05],\n",
      "        [1.0059e+05],\n",
      "        [2.5330e+03],\n",
      "        [1.1903e+05],\n",
      "        [1.0286e+05],\n",
      "        [8.5692e+04],\n",
      "        [4.7734e+04],\n",
      "        [2.2367e+04],\n",
      "        [1.1435e+05],\n",
      "        [7.1989e+04],\n",
      "        [6.6289e+04],\n",
      "        [2.4065e+04],\n",
      "        [9.5856e+04],\n",
      "        [1.0958e+04],\n",
      "        [1.0132e+04],\n",
      "        [5.0154e+04],\n",
      "        [2.3110e+04],\n",
      "        [5.3370e+03],\n",
      "        [3.3592e+04],\n",
      "        [2.2097e+04],\n",
      "        [4.4191e+04],\n",
      "        [3.2284e+04],\n",
      "        [6.3602e+04],\n",
      "        [4.8199e+04],\n",
      "        [9.7280e+03],\n",
      "        [1.0018e+05],\n",
      "        [9.9336e+04],\n",
      "        [6.8047e+04],\n",
      "        [3.9019e+04],\n",
      "        [4.4664e+04],\n",
      "        [1.2089e+05],\n",
      "        [1.0791e+05],\n",
      "        [2.3807e+04],\n",
      "        [7.3070e+03],\n",
      "        [9.4346e+04],\n",
      "        [5.4240e+04],\n",
      "        [1.2571e+05],\n",
      "        [3.2762e+04],\n",
      "        [1.1922e+05],\n",
      "        [7.6458e+04],\n",
      "        [9.4294e+04],\n",
      "        [3.0446e+04],\n",
      "        [1.7523e+04],\n",
      "        [6.1290e+03],\n",
      "        [1.0638e+05],\n",
      "        [5.5270e+04],\n",
      "        [1.2239e+05],\n",
      "        [1.2436e+05],\n",
      "        [9.2200e+03],\n",
      "        [2.7083e+04],\n",
      "        [7.3868e+04],\n",
      "        [1.5700e+02],\n",
      "        [1.1854e+05],\n",
      "        [6.9712e+04],\n",
      "        [1.1499e+05],\n",
      "        [1.1707e+05],\n",
      "        [6.5260e+03],\n",
      "        [6.0761e+04],\n",
      "        [8.6378e+04],\n",
      "        [1.2296e+05],\n",
      "        [6.4046e+04],\n",
      "        [2.7600e+03],\n",
      "        [1.1627e+05],\n",
      "        [1.4006e+04],\n",
      "        [1.1284e+05],\n",
      "        [1.7996e+04],\n",
      "        [4.0700e+04],\n",
      "        [1.0584e+05],\n",
      "        [9.3973e+04],\n",
      "        [4.2365e+04],\n",
      "        [9.7853e+04],\n",
      "        [1.0294e+05],\n",
      "        [1.1043e+04],\n",
      "        [9.3154e+04],\n",
      "        [7.9100e+04],\n",
      "        [1.2623e+05],\n",
      "        [6.3966e+04],\n",
      "        [4.6600e+03],\n",
      "        [1.2468e+05],\n",
      "        [3.2199e+04],\n",
      "        [1.6072e+04],\n",
      "        [4.4123e+04],\n",
      "        [4.6393e+04],\n",
      "        [1.2822e+05],\n",
      "        [5.8274e+04],\n",
      "        [6.6128e+04],\n",
      "        [8.2496e+04],\n",
      "        [4.4290e+04],\n",
      "        [6.5161e+04],\n",
      "        [5.5034e+04],\n",
      "        [5.5086e+04],\n",
      "        [7.7546e+04],\n",
      "        [5.7639e+04],\n",
      "        [1.1076e+05],\n",
      "        [5.6090e+04],\n",
      "        [5.9460e+04],\n",
      "        [4.3297e+04],\n",
      "        [1.9981e+04],\n",
      "        [5.6972e+04]])\n"
     ]
    }
   ],
   "source": [
    "sep1 = int(0.6 * len(train_x))\n",
    "sep2 = int(0.8 * len(train_x))\n",
    "\n",
    "# 把数据集分成len(data_series) - window_size + 1个window,同时需要有一个flag指示是第几个window\n",
    "def createWindows(data_series, window_size):\n",
    "    windows = []\n",
    "    window_index = []\n",
    "    for i in range(len(data_series) - window_size + 1):\n",
    "        window = np.array(data_series[i: i + window_size])\n",
    "        windows.append(window)\n",
    "        window_index.append([i])\n",
    "    return windows, window_index\n",
    "\n",
    "windows, window_index = createWindows(train_x[:sep1], WINDOW_SIZE)\n",
    "windows = torch.from_numpy(np.array(windows)).float()\n",
    "window_index = torch.from_numpy(np.array(window_index)).float()\n",
    "\n",
    "\n",
    "train_set = TensorDataset(windows, window_index)\n",
    "train_data = DataLoader(train_set, batch_size=BATCH_SIZE, shuffle=True, drop_last=True)\n",
    "\n",
    "for i, batch in enumerate(train_data):\n",
    "    print(i)\n",
    "    # batch[0]为数据,batch[1]为标签\n",
    "    print(batch[0])\n",
    "    print(batch[1])\n",
    "    break\n",
    "\n",
    "torch.multiprocessing.set_sharing_strategy('file_system')\n",
    "\n",
    "v_windows, v_window_index = createWindows(train_x[sep1:sep2], WINDOW_SIZE)\n",
    "v_windows = torch.from_numpy(np.array(v_windows)).float()\n",
    "v_window_index = torch.from_numpy(np.array(v_window_index)).float()\n",
    "\n",
    "valid_set = TensorDataset(v_windows, v_window_index)\n",
    "valid_data = DataLoader(valid_set, batch_size=BATCH_SIZE, shuffle=True, drop_last=True)\n",
    "\n",
    "# test_set = TensorDataset(train_x[sep2:], train_y[sep2:])\n",
    "# test_data = DataLoader(test_set, batch_size=BATCH_SIZE, shuffle=True, num_workers=2, drop_last=True)"
   ]
  },
  {
   "cell_type": "code",
   "execution_count": 5,
   "metadata": {},
   "outputs": [],
   "source": [
    "class VAE(nn.Module):\n",
    "    def __init__(self, input_size=WINDOW_SIZE, output_size=WINDOW_SIZE, latent_num=K, eps=epsilon):\n",
    "        super(VAE, self).__init__()\n",
    "        \n",
    "        self.input_size = input_size\n",
    "        self.output_size = output_size\n",
    "        self.latent_num = latent_num\n",
    "        self.eps = eps\n",
    "        \n",
    "        self.encoder = nn.Sequential(\n",
    "            nn.Linear(self.input_size, 100),\n",
    "            #nn.BatchNorm1d(100),\n",
    "            nn.ReLU(),\n",
    "            nn.Linear(100, 100),\n",
    "            #nn.BatchNorm1d(100),\n",
    "            nn.ReLU(),\n",
    "        )\n",
    "        \n",
    "        self.mu_layer = nn.Linear(100, self.latent_num)\n",
    "        self.sigma_layer = nn.Linear(100, self.latent_num)\n",
    "        \n",
    "#         self.x2z_mu = nn.Linear(100, latent_num)\n",
    "#         self.x2z_sigma = F.softplus(F.linear(100, latent_num)) + torch.FloatTensor([eps] * latent_num)\n",
    "        \n",
    "#         self.z2x_mu = nn.Linear(100, input_size)\n",
    "#         self.z2x_sigma = F.softplus(F.linear(100, input_size)) + torch.FloatTensor([eps] * latent_num)\n",
    "        \n",
    "        self.decoder = nn.Sequential(\n",
    "            nn.Linear(self.latent_num, 100),\n",
    "            #nn.BatchNorm1d(100),\n",
    "            nn.ReLU(),\n",
    "            nn.Linear(100, 100),\n",
    "            #nn.BatchNorm1d(100),\n",
    "            nn.ReLU(),\n",
    "            nn.Linear(100, self.output_size),\n",
    "            nn.Tanh()\n",
    "        )\n",
    "        \n",
    "    # q(z|x)\n",
    "    def encode_q(self, x):\n",
    "        h1 = self.encoder(x)\n",
    "        mu = self.mu_layer(h1)\n",
    "        sigma = self.sigma_layer(h1)\n",
    "        sigma = F.softplus(sigma) + torch.FloatTensor([self.eps] * self.latent_num)\n",
    "#         x2z_mu = F.linear(h1, self.latent_num)\n",
    "#         x2z_sigma = F.softplus(F.linear(h1, self.latent_num)) + torch.FloatTensor([self.eps] * self.latent_num)\n",
    "        return mu, sigma\n",
    "    \n",
    "    # 重参数化，使网络可以反向传播\n",
    "    def reparametrize(self, mu, logvar):\n",
    "        # mul逐乘\n",
    "        # exp逐指数\n",
    "        # exp_是exp的in-place形式\n",
    "        std = logvar.mul(0.5).exp_()\n",
    "        ksi = torch.FloatTensor(std.size()).normal_()\n",
    "        if torch.cuda.is_available():\n",
    "            ksi = ksi.cuda()\n",
    "        # z = mu + sigma * ksi\n",
    "        return ksi.mul(std).add_(mu)\n",
    "    \n",
    "    # p(x|z)\n",
    "    def decoder_p(self, z):\n",
    "        h2 = self.decoder(z)\n",
    "        #z2x_mu = F.linear(h2, output_size)\n",
    "        #z2x_sigma = F.softplus(F.linear(h2, output_size)) + torch.FloatTensor([eps] * output_size)\n",
    "        return h2\n",
    "\n",
    "    def forward(self, x):\n",
    "        mu, logvar = self.encode_q(x)\n",
    "        z = self.reparametrize(mu, logvar)\n",
    "        # 解码，同时输出均值和方差\n",
    "        return self.decoder_p(z), mu, logvar "
   ]
  },
  {
   "cell_type": "code",
   "execution_count": 6,
   "metadata": {},
   "outputs": [
    {
     "name": "stdout",
     "output_type": "stream",
     "text": [
      "VAE(\n",
      "  (encoder): Sequential(\n",
      "    (0): Linear(in_features=120, out_features=100, bias=True)\n",
      "    (1): ReLU()\n",
      "    (2): Linear(in_features=100, out_features=100, bias=True)\n",
      "    (3): ReLU()\n",
      "  )\n",
      "  (mu_layer): Linear(in_features=100, out_features=3, bias=True)\n",
      "  (sigma_layer): Linear(in_features=100, out_features=3, bias=True)\n",
      "  (decoder): Sequential(\n",
      "    (0): Linear(in_features=3, out_features=100, bias=True)\n",
      "    (1): ReLU()\n",
      "    (2): Linear(in_features=100, out_features=100, bias=True)\n",
      "    (3): ReLU()\n",
      "    (4): Linear(in_features=100, out_features=120, bias=True)\n",
      "    (5): Tanh()\n",
      "  )\n",
      ")\n"
     ]
    }
   ],
   "source": [
    "net = VAE()\n",
    "print(net)\n",
    "if torch.cuda.is_available():\n",
    "    net = net.cuda()"
   ]
  },
  {
   "cell_type": "code",
   "execution_count": 7,
   "metadata": {},
   "outputs": [],
   "source": [
    "reconstruction_function = nn.MSELoss(reduction='sum')\n",
    "\n",
    "def loss_function(recon_x, x, mu, logvar):\n",
    "    MSE = reconstruction_function(recon_x, x)\n",
    "    # loss = 0.5 * sum(1 + log(sigma^2) - mu^2 - sigma^2)\n",
    "    KLD_element = mu.pow(2).add_(logvar.exp()).mul_(-1).add_(1).add_(logvar)\n",
    "    KLD = torch.sum(KLD_element).mul_(-0.5)\n",
    "    # KL divergence\n",
    "    return MSE + KLD\n",
    "\n",
    "optimizer = optim.Adam(net.parameters(), lr=LEARNING_RATE, weight_decay=1e-3) # 添加正则项，替代dropout\n",
    "\n",
    "nn.utils.clip_grad_norm_(net.parameters(), max_norm=10.0)\n",
    "\n",
    "# optimizer.param_groups[0]\n",
    "# 是其中一个参数组，包括['lr']和['weight_decay']\n",
    "# 可以直接赋值修改参数\n",
    "# 防止有多个参数组，故使用循环\n",
    "# def set_learning_rate(optimizer, lr):\n",
    "#     for param_group in optimizer.param_groups:\n",
    "#         param_group['lr'] = lr\n",
    "\n",
    "# 每10轮衰减为原来的75%\n",
    "def set_learning_rate(optimizer):\n",
    "    for param_group in optimizer.param_groups:\n",
    "        param_group['lr'] *= 0.75"
   ]
  },
  {
   "cell_type": "code",
   "execution_count": 8,
   "metadata": {},
   "outputs": [
    {
     "name": "stderr",
     "output_type": "stream",
     "text": [
      "  2%|▏         | 5/250 [00:13<11:45,  2.88s/it]"
     ]
    },
    {
     "name": "stdout",
     "output_type": "stream",
     "text": [
      "Epoch: 5, Train Loss: 0.2385, Valid Loss: 0.1625 Time 00:00:13\n"
     ]
    },
    {
     "name": "stderr",
     "output_type": "stream",
     "text": [
      "  4%|▍         | 10/250 [00:34<16:32,  4.14s/it]"
     ]
    },
    {
     "name": "stdout",
     "output_type": "stream",
     "text": [
      "Epoch: 10, Train Loss: 0.2383, Valid Loss: 0.1677 Time 00:00:21\n"
     ]
    },
    {
     "name": "stderr",
     "output_type": "stream",
     "text": [
      "  6%|▌         | 15/250 [01:01<19:57,  5.10s/it]"
     ]
    },
    {
     "name": "stdout",
     "output_type": "stream",
     "text": [
      "Epoch: 15, Train Loss: 0.2382, Valid Loss: 0.1766 Time 00:00:26\n"
     ]
    },
    {
     "name": "stderr",
     "output_type": "stream",
     "text": [
      "  8%|▊         | 20/250 [01:26<18:47,  4.90s/it]"
     ]
    },
    {
     "name": "stdout",
     "output_type": "stream",
     "text": [
      "Epoch: 20, Train Loss: 0.2383, Valid Loss: 0.1850 Time 00:00:25\n"
     ]
    },
    {
     "name": "stderr",
     "output_type": "stream",
     "text": [
      " 10%|█         | 25/250 [01:48<16:32,  4.41s/it]"
     ]
    },
    {
     "name": "stdout",
     "output_type": "stream",
     "text": [
      "Epoch: 25, Train Loss: 0.2382, Valid Loss: 0.1900 Time 00:00:21\n"
     ]
    },
    {
     "name": "stderr",
     "output_type": "stream",
     "text": [
      " 12%|█▏        | 30/250 [02:08<14:53,  4.06s/it]"
     ]
    },
    {
     "name": "stdout",
     "output_type": "stream",
     "text": [
      "Epoch: 30, Train Loss: 0.2382, Valid Loss: 0.1614 Time 00:00:19\n"
     ]
    },
    {
     "name": "stderr",
     "output_type": "stream",
     "text": [
      " 14%|█▍        | 35/250 [02:27<14:10,  3.95s/it]"
     ]
    },
    {
     "name": "stdout",
     "output_type": "stream",
     "text": [
      "Epoch: 35, Train Loss: 0.2382, Valid Loss: 0.1861 Time 00:00:19\n"
     ]
    },
    {
     "name": "stderr",
     "output_type": "stream",
     "text": [
      " 16%|█▌        | 40/250 [02:48<14:14,  4.07s/it]"
     ]
    },
    {
     "name": "stdout",
     "output_type": "stream",
     "text": [
      "Epoch: 40, Train Loss: 0.2382, Valid Loss: 0.1900 Time 00:00:20\n"
     ]
    },
    {
     "name": "stderr",
     "output_type": "stream",
     "text": [
      " 18%|█▊        | 45/250 [03:12<16:17,  4.77s/it]"
     ]
    },
    {
     "name": "stdout",
     "output_type": "stream",
     "text": [
      "Epoch: 45, Train Loss: 0.2381, Valid Loss: 0.1750 Time 00:00:24\n"
     ]
    },
    {
     "name": "stderr",
     "output_type": "stream",
     "text": [
      " 20%|██        | 50/250 [03:35<15:35,  4.68s/it]"
     ]
    },
    {
     "name": "stdout",
     "output_type": "stream",
     "text": [
      "Epoch: 50, Train Loss: 0.2382, Valid Loss: 0.1564 Time 00:00:23\n"
     ]
    },
    {
     "name": "stderr",
     "output_type": "stream",
     "text": [
      " 22%|██▏       | 55/250 [04:10<23:21,  7.19s/it]"
     ]
    },
    {
     "name": "stdout",
     "output_type": "stream",
     "text": [
      "Epoch: 55, Train Loss: 0.2382, Valid Loss: 0.1807 Time 00:00:34\n"
     ]
    },
    {
     "name": "stderr",
     "output_type": "stream",
     "text": [
      " 24%|██▍       | 60/250 [04:40<18:44,  5.92s/it]"
     ]
    },
    {
     "name": "stdout",
     "output_type": "stream",
     "text": [
      "Epoch: 60, Train Loss: 0.2382, Valid Loss: 0.1828 Time 00:00:29\n"
     ]
    },
    {
     "name": "stderr",
     "output_type": "stream",
     "text": [
      " 26%|██▌       | 65/250 [05:16<23:36,  7.65s/it]"
     ]
    },
    {
     "name": "stdout",
     "output_type": "stream",
     "text": [
      "Epoch: 65, Train Loss: 0.2381, Valid Loss: 0.1669 Time 00:00:36\n"
     ]
    },
    {
     "name": "stderr",
     "output_type": "stream",
     "text": [
      " 28%|██▊       | 70/250 [06:05<28:52,  9.63s/it]"
     ]
    },
    {
     "name": "stdout",
     "output_type": "stream",
     "text": [
      "Epoch: 70, Train Loss: 0.2381, Valid Loss: 0.1823 Time 00:00:49\n"
     ]
    },
    {
     "name": "stderr",
     "output_type": "stream",
     "text": [
      " 30%|███       | 75/250 [06:59<30:48, 10.57s/it]"
     ]
    },
    {
     "name": "stdout",
     "output_type": "stream",
     "text": [
      "Epoch: 75, Train Loss: 0.2381, Valid Loss: 0.1763 Time 00:00:53\n"
     ]
    },
    {
     "name": "stderr",
     "output_type": "stream",
     "text": [
      " 32%|███▏      | 80/250 [07:47<26:59,  9.53s/it]"
     ]
    },
    {
     "name": "stdout",
     "output_type": "stream",
     "text": [
      "Epoch: 80, Train Loss: 0.2381, Valid Loss: 0.1725 Time 00:00:48\n"
     ]
    },
    {
     "name": "stderr",
     "output_type": "stream",
     "text": [
      " 34%|███▍      | 85/250 [08:40<28:56, 10.52s/it]"
     ]
    },
    {
     "name": "stdout",
     "output_type": "stream",
     "text": [
      "Epoch: 85, Train Loss: 0.2382, Valid Loss: 0.1833 Time 00:00:53\n"
     ]
    },
    {
     "name": "stderr",
     "output_type": "stream",
     "text": [
      " 36%|███▌      | 90/250 [09:34<28:29, 10.68s/it]"
     ]
    },
    {
     "name": "stdout",
     "output_type": "stream",
     "text": [
      "Epoch: 90, Train Loss: 0.2381, Valid Loss: 0.1753 Time 00:00:53\n"
     ]
    },
    {
     "name": "stderr",
     "output_type": "stream",
     "text": [
      " 38%|███▊      | 95/250 [10:29<28:15, 10.94s/it]"
     ]
    },
    {
     "name": "stdout",
     "output_type": "stream",
     "text": [
      "Epoch: 95, Train Loss: 0.2381, Valid Loss: 0.1780 Time 00:00:55\n"
     ]
    },
    {
     "name": "stderr",
     "output_type": "stream",
     "text": [
      " 40%|████      | 100/250 [11:24<27:32, 11.02s/it]"
     ]
    },
    {
     "name": "stdout",
     "output_type": "stream",
     "text": [
      "Epoch: 100, Train Loss: 0.2382, Valid Loss: 0.1711 Time 00:00:55\n"
     ]
    },
    {
     "name": "stderr",
     "output_type": "stream",
     "text": [
      " 42%|████▏     | 105/250 [12:20<26:52, 11.12s/it]"
     ]
    },
    {
     "name": "stdout",
     "output_type": "stream",
     "text": [
      "Epoch: 105, Train Loss: 0.2382, Valid Loss: 0.1752 Time 00:00:55\n"
     ]
    },
    {
     "name": "stderr",
     "output_type": "stream",
     "text": [
      " 44%|████▍     | 110/250 [13:15<25:58, 11.14s/it]"
     ]
    },
    {
     "name": "stdout",
     "output_type": "stream",
     "text": [
      "Epoch: 110, Train Loss: 0.2381, Valid Loss: 0.1683 Time 00:00:55\n"
     ]
    },
    {
     "name": "stderr",
     "output_type": "stream",
     "text": [
      " 46%|████▌     | 115/250 [14:11<25:00, 11.11s/it]"
     ]
    },
    {
     "name": "stdout",
     "output_type": "stream",
     "text": [
      "Epoch: 115, Train Loss: 0.2381, Valid Loss: 0.1719 Time 00:00:55\n"
     ]
    },
    {
     "name": "stderr",
     "output_type": "stream",
     "text": [
      " 48%|████▊     | 120/250 [15:07<24:12, 11.17s/it]"
     ]
    },
    {
     "name": "stdout",
     "output_type": "stream",
     "text": [
      "Epoch: 120, Train Loss: 0.2381, Valid Loss: 0.1795 Time 00:00:56\n"
     ]
    },
    {
     "name": "stderr",
     "output_type": "stream",
     "text": [
      " 50%|█████     | 125/250 [16:03<23:30, 11.28s/it]"
     ]
    },
    {
     "name": "stdout",
     "output_type": "stream",
     "text": [
      "Epoch: 125, Train Loss: 0.2381, Valid Loss: 0.1952 Time 00:00:56\n"
     ]
    },
    {
     "name": "stderr",
     "output_type": "stream",
     "text": [
      " 52%|█████▏    | 130/250 [16:58<22:06, 11.06s/it]"
     ]
    },
    {
     "name": "stdout",
     "output_type": "stream",
     "text": [
      "Epoch: 130, Train Loss: 0.2381, Valid Loss: 0.1753 Time 00:00:55\n"
     ]
    },
    {
     "name": "stderr",
     "output_type": "stream",
     "text": [
      " 54%|█████▍    | 135/250 [17:53<20:50, 10.87s/it]"
     ]
    },
    {
     "name": "stdout",
     "output_type": "stream",
     "text": [
      "Epoch: 135, Train Loss: 0.2381, Valid Loss: 0.1828 Time 00:00:54\n"
     ]
    },
    {
     "name": "stderr",
     "output_type": "stream",
     "text": [
      " 56%|█████▌    | 140/250 [18:48<20:19, 11.08s/it]"
     ]
    },
    {
     "name": "stdout",
     "output_type": "stream",
     "text": [
      "Epoch: 140, Train Loss: 0.2381, Valid Loss: 0.1759 Time 00:00:55\n"
     ]
    },
    {
     "name": "stderr",
     "output_type": "stream",
     "text": [
      " 58%|█████▊    | 145/250 [19:43<19:17, 11.02s/it]"
     ]
    },
    {
     "name": "stdout",
     "output_type": "stream",
     "text": [
      "Epoch: 145, Train Loss: 0.2381, Valid Loss: 0.1613 Time 00:00:54\n"
     ]
    },
    {
     "name": "stderr",
     "output_type": "stream",
     "text": [
      " 60%|██████    | 150/250 [20:40<18:47, 11.28s/it]"
     ]
    },
    {
     "name": "stdout",
     "output_type": "stream",
     "text": [
      "Epoch: 150, Train Loss: 0.2381, Valid Loss: 0.1933 Time 00:00:56\n"
     ]
    },
    {
     "name": "stderr",
     "output_type": "stream",
     "text": [
      " 62%|██████▏   | 155/250 [21:36<17:53, 11.30s/it]"
     ]
    },
    {
     "name": "stdout",
     "output_type": "stream",
     "text": [
      "Epoch: 155, Train Loss: 0.2381, Valid Loss: 0.2021 Time 00:00:56\n"
     ]
    },
    {
     "name": "stderr",
     "output_type": "stream",
     "text": [
      " 64%|██████▍   | 160/250 [22:33<17:08, 11.43s/it]"
     ]
    },
    {
     "name": "stdout",
     "output_type": "stream",
     "text": [
      "Epoch: 160, Train Loss: 0.2381, Valid Loss: 0.1869 Time 00:00:57\n"
     ]
    },
    {
     "name": "stderr",
     "output_type": "stream",
     "text": [
      " 66%|██████▌   | 165/250 [23:30<16:16, 11.49s/it]"
     ]
    },
    {
     "name": "stdout",
     "output_type": "stream",
     "text": [
      "Epoch: 165, Train Loss: 0.2381, Valid Loss: 0.1688 Time 00:00:57\n"
     ]
    },
    {
     "name": "stderr",
     "output_type": "stream",
     "text": [
      " 68%|██████▊   | 170/250 [24:28<15:16, 11.46s/it]"
     ]
    },
    {
     "name": "stdout",
     "output_type": "stream",
     "text": [
      "Epoch: 170, Train Loss: 0.2382, Valid Loss: 0.1881 Time 00:00:57\n"
     ]
    },
    {
     "name": "stderr",
     "output_type": "stream",
     "text": [
      " 70%|███████   | 175/250 [25:24<14:14, 11.39s/it]"
     ]
    },
    {
     "name": "stdout",
     "output_type": "stream",
     "text": [
      "Epoch: 175, Train Loss: 0.2381, Valid Loss: 0.1805 Time 00:00:56\n"
     ]
    },
    {
     "name": "stderr",
     "output_type": "stream",
     "text": [
      " 72%|███████▏  | 180/250 [26:22<13:21, 11.45s/it]"
     ]
    },
    {
     "name": "stdout",
     "output_type": "stream",
     "text": [
      "Epoch: 180, Train Loss: 0.2381, Valid Loss: 0.2025 Time 00:00:57\n"
     ]
    },
    {
     "name": "stderr",
     "output_type": "stream",
     "text": [
      " 74%|███████▍  | 185/250 [27:19<12:22, 11.43s/it]"
     ]
    },
    {
     "name": "stdout",
     "output_type": "stream",
     "text": [
      "Epoch: 185, Train Loss: 0.2381, Valid Loss: 0.1878 Time 00:00:57\n"
     ]
    },
    {
     "name": "stderr",
     "output_type": "stream",
     "text": [
      " 76%|███████▌  | 190/250 [28:16<11:26, 11.45s/it]"
     ]
    },
    {
     "name": "stdout",
     "output_type": "stream",
     "text": [
      "Epoch: 190, Train Loss: 0.2382, Valid Loss: 0.1735 Time 00:00:57\n"
     ]
    },
    {
     "name": "stderr",
     "output_type": "stream",
     "text": [
      " 78%|███████▊  | 195/250 [29:14<10:36, 11.58s/it]"
     ]
    },
    {
     "name": "stdout",
     "output_type": "stream",
     "text": [
      "Epoch: 195, Train Loss: 0.2381, Valid Loss: 0.1840 Time 00:00:57\n"
     ]
    },
    {
     "name": "stderr",
     "output_type": "stream",
     "text": [
      " 80%|████████  | 200/250 [30:11<09:26, 11.34s/it]"
     ]
    },
    {
     "name": "stdout",
     "output_type": "stream",
     "text": [
      "Epoch: 200, Train Loss: 0.2381, Valid Loss: 0.1695 Time 00:00:56\n"
     ]
    },
    {
     "name": "stderr",
     "output_type": "stream",
     "text": [
      " 82%|████████▏ | 205/250 [31:08<08:34, 11.44s/it]"
     ]
    },
    {
     "name": "stdout",
     "output_type": "stream",
     "text": [
      "Epoch: 205, Train Loss: 0.2381, Valid Loss: 0.1768 Time 00:00:57\n"
     ]
    },
    {
     "name": "stderr",
     "output_type": "stream",
     "text": [
      " 84%|████████▍ | 210/250 [32:05<07:40, 11.52s/it]"
     ]
    },
    {
     "name": "stdout",
     "output_type": "stream",
     "text": [
      "Epoch: 210, Train Loss: 0.2381, Valid Loss: 0.1839 Time 00:00:57\n"
     ]
    },
    {
     "name": "stderr",
     "output_type": "stream",
     "text": [
      " 86%|████████▌ | 215/250 [33:03<06:45, 11.60s/it]"
     ]
    },
    {
     "name": "stdout",
     "output_type": "stream",
     "text": [
      "Epoch: 215, Train Loss: 0.2381, Valid Loss: 0.1853 Time 00:00:57\n"
     ]
    },
    {
     "name": "stderr",
     "output_type": "stream",
     "text": [
      " 88%|████████▊ | 220/250 [34:01<05:47, 11.60s/it]"
     ]
    },
    {
     "name": "stdout",
     "output_type": "stream",
     "text": [
      "Epoch: 220, Train Loss: 0.2381, Valid Loss: 0.1662 Time 00:00:57\n"
     ]
    },
    {
     "name": "stderr",
     "output_type": "stream",
     "text": [
      " 90%|█████████ | 225/250 [34:58<04:46, 11.47s/it]"
     ]
    },
    {
     "name": "stdout",
     "output_type": "stream",
     "text": [
      "Epoch: 225, Train Loss: 0.2381, Valid Loss: 0.1653 Time 00:00:57\n"
     ]
    },
    {
     "name": "stderr",
     "output_type": "stream",
     "text": [
      " 92%|█████████▏| 230/250 [35:56<03:49, 11.47s/it]"
     ]
    },
    {
     "name": "stdout",
     "output_type": "stream",
     "text": [
      "Epoch: 230, Train Loss: 0.2381, Valid Loss: 0.1873 Time 00:00:57\n"
     ]
    },
    {
     "name": "stderr",
     "output_type": "stream",
     "text": [
      " 94%|█████████▍| 235/250 [36:53<02:50, 11.38s/it]"
     ]
    },
    {
     "name": "stdout",
     "output_type": "stream",
     "text": [
      "Epoch: 235, Train Loss: 0.2381, Valid Loss: 0.1793 Time 00:00:57\n"
     ]
    },
    {
     "name": "stderr",
     "output_type": "stream",
     "text": [
      " 96%|█████████▌| 240/250 [37:50<01:54, 11.48s/it]"
     ]
    },
    {
     "name": "stdout",
     "output_type": "stream",
     "text": [
      "Epoch: 240, Train Loss: 0.2381, Valid Loss: 0.1858 Time 00:00:57\n"
     ]
    },
    {
     "name": "stderr",
     "output_type": "stream",
     "text": [
      " 98%|█████████▊| 245/250 [38:47<00:56, 11.32s/it]"
     ]
    },
    {
     "name": "stdout",
     "output_type": "stream",
     "text": [
      "Epoch: 245, Train Loss: 0.2381, Valid Loss: 0.1655 Time 00:00:56\n"
     ]
    },
    {
     "name": "stderr",
     "output_type": "stream",
     "text": [
      "100%|██████████| 250/250 [39:45<00:00, 11.62s/it]"
     ]
    },
    {
     "name": "stdout",
     "output_type": "stream",
     "text": [
      "Epoch: 250, Train Loss: 0.2381, Valid Loss: 0.1922 Time 00:00:58\n"
     ]
    },
    {
     "name": "stderr",
     "output_type": "stream",
     "text": [
      "\n"
     ]
    },
    {
     "ename": "TypeError",
     "evalue": "'float' object is not subscriptable",
     "output_type": "error",
     "traceback": [
      "\u001b[0;31m---------------------------------------------------------------------------\u001b[0m",
      "\u001b[0;31mTypeError\u001b[0m                                 Traceback (most recent call last)",
      "\u001b[0;32m<ipython-input-8-b3e070bab193>\u001b[0m in \u001b[0;36m<module>\u001b[0;34m\u001b[0m\n\u001b[1;32m     47\u001b[0m     \u001b[0mnet\u001b[0m\u001b[0;34m.\u001b[0m\u001b[0mtrain\u001b[0m\u001b[0;34m(\u001b[0m\u001b[0;34m)\u001b[0m\u001b[0;34m\u001b[0m\u001b[0;34m\u001b[0m\u001b[0m\n\u001b[1;32m     48\u001b[0m \u001b[0;34m\u001b[0m\u001b[0m\n\u001b[0;32m---> 49\u001b[0;31m \u001b[0mfinal_loss\u001b[0m \u001b[0;34m=\u001b[0m \u001b[0mtrain_loss\u001b[0m\u001b[0;34m[\u001b[0m\u001b[0;34m-\u001b[0m\u001b[0;36m1\u001b[0m\u001b[0;34m]\u001b[0m\u001b[0;34m\u001b[0m\u001b[0;34m\u001b[0m\u001b[0m\n\u001b[0m",
      "\u001b[0;31mTypeError\u001b[0m: 'float' object is not subscriptable"
     ]
    }
   ],
   "source": [
    "train_losses = []\n",
    "valid_losses = []\n",
    "\n",
    "prev_time = datetime.now()\n",
    "\n",
    "for e in tqdm(range(EPOCH)):\n",
    "    if e != 0 and e % 10 == 0:\n",
    "        set_learning_rate(optimizer)\n",
    "        \n",
    "    train_loss = 0.0\n",
    "    for i, batch in enumerate(train_data):\n",
    "        window = batch[0].view(BATCH_SIZE, -1)\n",
    "        recon_window, mu, logvar = net(window)\n",
    "        loss = loss_function(recon_window, window, mu, logvar) / BATCH_SIZE\n",
    "        \n",
    "        optimizer.zero_grad()\n",
    "        loss.backward()\n",
    "        optimizer.step()\n",
    "        # use float() to reduce menmery 'autograd\n",
    "        train_loss += float(loss)\n",
    "        \n",
    "    train_loss /= len(train_data)\n",
    "    train_losses.append(train_loss)\n",
    "    \n",
    "    valid_loss = 0\n",
    "    \n",
    "    net.eval()\n",
    "    \n",
    "    for i, batch in enumerate(valid_data):\n",
    "        window = batch[0].view(BATCH_SIZE, -1)\n",
    "        recon_window, mu, logvar = net(window)\n",
    "        loss = loss_function(recon_window, window, mu, logvar) / BATCH_SIZE\n",
    "        valid_loss = float(loss)\n",
    "        break\n",
    "        \n",
    "    valid_losses.append(valid_loss)\n",
    "        \n",
    "    if (e + 1) % 5 == 0:\n",
    "        cur_time = datetime.now()\n",
    "        h, remainder = divmod((cur_time - prev_time).seconds, 3600)\n",
    "        m, s = divmod(remainder, 60)\n",
    "        time_str = \"Time %02d:%02d:%02d\" % (h, m, s)\n",
    "        \n",
    "        prev_time = cur_time\n",
    "        #print('Epoch: {}, Train Loss: {:.4f} '.format(e + 1, train_loss) + time_str)\n",
    "        print('Epoch: {}, Train Loss: {:.4f}, Valid Loss: {:.4f} '.format(e + 1, train_loss, valid_loss) + time_str)\n",
    "    net.train()\n",
    "    \n",
    "final_loss = train_losses[-1]"
   ]
  },
  {
   "cell_type": "code",
   "execution_count": 9,
   "metadata": {},
   "outputs": [
    {
     "data": {
      "text/plain": [
       "0.23813377163756203"
      ]
     },
     "execution_count": 9,
     "metadata": {},
     "output_type": "execute_result"
    }
   ],
   "source": [
    "train_loss"
   ]
  },
  {
   "cell_type": "code",
   "execution_count": 12,
   "metadata": {},
   "outputs": [
    {
     "data": {
      "text/plain": [
       "0.23813377163756203"
      ]
     },
     "execution_count": 12,
     "metadata": {},
     "output_type": "execute_result"
    }
   ],
   "source": [
    "final_loss = train_losses[-1]\n",
    "final_loss"
   ]
  },
  {
   "cell_type": "code",
   "execution_count": 10,
   "metadata": {},
   "outputs": [
    {
     "data": {
      "text/plain": [
       "<matplotlib.legend.Legend at 0x7f633c268518>"
      ]
     },
     "execution_count": 10,
     "metadata": {},
     "output_type": "execute_result"
    },
    {
     "data": {
      "image/png": "[encoded data removed]",
      "text/plain": [
       "<Figure size 1440x720 with 1 Axes>"
      ]
     },
     "metadata": {
      "needs_background": "light"
     },
     "output_type": "display_data"
    }
   ],
   "source": [
    "plt.figure(figsize=(20, 10))\n",
    "plt.plot(train_losses, label='train')\n",
    "plt.plot(valid_losses, label='valid')\n",
    "plt.xlabel('epoch')\n",
    "plt.legend(loc='best')"
   ]
  },
  {
   "cell_type": "code",
   "execution_count": null,
   "metadata": {},
   "outputs": [],
   "source": []
  }
 ],
 "metadata": {
  "kernelspec": {
   "display_name": "Python 3",
   "language": "python",
   "name": "python3"
  },
  "language_info": {
   "codemirror_mode": {
    "name": "ipython",
    "version": 3
   },
   "file_extension": ".py",
   "mimetype": "text/x-python",
   "name": "python",
   "nbconvert_exporter": "python",
   "pygments_lexer": "ipython3",
   "version": "3.7.1"
  }
 },
 "nbformat": 4,
 "nbformat_minor": 2
}
