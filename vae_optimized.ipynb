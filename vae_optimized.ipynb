{
 "cells": [
  {
   "cell_type": "code",
   "execution_count": 1,
   "metadata": {},
   "outputs": [
    {
     "name": "stderr",
     "output_type": "stream",
     "text": [
      "\r",
      "  0%|          | 0/100 [00:00<?, ?it/s]"
     ]
    },
    {
     "name": "stdout",
     "output_type": "stream",
     "text": [
      "468\n",
      "VAE(\n",
      "  (encoder): Sequential(\n",
      "    (0): Linear(in_features=784, out_features=400, bias=True)\n",
      "    (1): BatchNorm1d(400, eps=1e-05, momentum=0.1, affine=True, track_running_stats=True)\n",
      "    (2): ReLU()\n",
      "  )\n",
      "  (fc1): Linear(in_features=400, out_features=20, bias=True)\n",
      "  (fc2): Linear(in_features=400, out_features=20, bias=True)\n",
      "  (decoder): Sequential(\n",
      "    (0): Linear(in_features=20, out_features=400, bias=True)\n",
      "    (1): BatchNorm1d(400, eps=1e-05, momentum=0.1, affine=True, track_running_stats=True)\n",
      "    (2): ReLU()\n",
      "    (3): Linear(in_features=400, out_features=784, bias=True)\n",
      "    (4): Tanh()\n",
      "  )\n",
      ")\n"
     ]
    },
    {
     "name": "stderr",
     "output_type": "stream",
     "text": [
      "  5%|▌         | 5/100 [12:11<4:06:06, 155.43s/it]"
     ]
    },
    {
     "name": "stdout",
     "output_type": "stream",
     "text": [
      "Epoch: 5, Train Loss: 113.2960, Valid Loss: 115.8748 Time 00:12:11\n"
     ]
    },
    {
     "name": "stderr",
     "output_type": "stream",
     "text": [
      " 10%|█         | 10/100 [30:57<5:24:31, 216.35s/it]"
     ]
    },
    {
     "name": "stdout",
     "output_type": "stream",
     "text": [
      "Epoch: 10, Train Loss: 109.8307, Valid Loss: 22268577404388843938906112.0000 Time 00:18:45\n"
     ]
    },
    {
     "name": "stderr",
     "output_type": "stream",
     "text": [
      " 15%|█▌        | 15/100 [50:28<5:27:48, 231.40s/it]"
     ]
    },
    {
     "name": "stdout",
     "output_type": "stream",
     "text": [
      "Epoch: 15, Train Loss: 108.0840, Valid Loss: 114.8276 Time 00:19:31\n"
     ]
    },
    {
     "name": "stderr",
     "output_type": "stream",
     "text": [
      " 20%|██        | 20/100 [1:10:13<5:16:15, 237.19s/it]"
     ]
    },
    {
     "name": "stdout",
     "output_type": "stream",
     "text": [
      "Epoch: 20, Train Loss: 106.8535, Valid Loss: 109.4317 Time 00:19:44\n"
     ]
    },
    {
     "name": "stderr",
     "output_type": "stream",
     "text": [
      " 25%|██▌       | 25/100 [1:30:36<5:04:11, 243.36s/it]"
     ]
    },
    {
     "name": "stdout",
     "output_type": "stream",
     "text": [
      "Epoch: 25, Train Loss: 106.4245, Valid Loss: 108.8360 Time 00:20:22\n"
     ]
    },
    {
     "name": "stderr",
     "output_type": "stream",
     "text": [
      " 30%|███       | 30/100 [1:50:58<4:46:06, 245.24s/it]"
     ]
    },
    {
     "name": "stdout",
     "output_type": "stream",
     "text": [
      "Epoch: 30, Train Loss: 106.6003, Valid Loss: 401.9688 Time 00:20:22\n"
     ]
    },
    {
     "name": "stderr",
     "output_type": "stream",
     "text": [
      " 35%|███▌      | 35/100 [2:11:21<4:26:03, 245.60s/it]"
     ]
    },
    {
     "name": "stdout",
     "output_type": "stream",
     "text": [
      "Epoch: 35, Train Loss: 106.7299, Valid Loss: 118.6196 Time 00:20:23\n"
     ]
    },
    {
     "name": "stderr",
     "output_type": "stream",
     "text": [
      " 40%|████      | 40/100 [2:30:53<3:55:34, 235.58s/it]"
     ]
    },
    {
     "name": "stdout",
     "output_type": "stream",
     "text": [
      "Epoch: 40, Train Loss: 107.2746, Valid Loss: 114.9721 Time 00:19:31\n"
     ]
    },
    {
     "name": "stderr",
     "output_type": "stream",
     "text": [
      " 45%|████▌     | 45/100 [2:43:45<2:06:06, 137.58s/it]"
     ]
    },
    {
     "name": "stdout",
     "output_type": "stream",
     "text": [
      "Epoch: 45, Train Loss: 107.6880, Valid Loss: 277.0649 Time 00:12:51\n"
     ]
    },
    {
     "name": "stderr",
     "output_type": "stream",
     "text": [
      " 50%|█████     | 50/100 [2:48:18<57:16, 68.73s/it]   "
     ]
    },
    {
     "name": "stdout",
     "output_type": "stream",
     "text": [
      "Epoch: 50, Train Loss: 107.6423, Valid Loss: nan Time 00:04:33\n"
     ]
    },
    {
     "name": "stderr",
     "output_type": "stream",
     "text": [
      " 55%|█████▌    | 55/100 [2:52:56<43:22, 57.84s/it]"
     ]
    },
    {
     "name": "stdout",
     "output_type": "stream",
     "text": [
      "Epoch: 55, Train Loss: 107.5606, Valid Loss: 428.4973 Time 00:04:37\n"
     ]
    },
    {
     "name": "stderr",
     "output_type": "stream",
     "text": [
      " 60%|██████    | 60/100 [2:57:11<34:10, 51.27s/it]"
     ]
    },
    {
     "name": "stdout",
     "output_type": "stream",
     "text": [
      "Epoch: 60, Train Loss: 107.2786, Valid Loss: 106.7498 Time 00:04:15\n"
     ]
    },
    {
     "name": "stderr",
     "output_type": "stream",
     "text": [
      " 65%|██████▌   | 65/100 [3:01:01<27:07, 46.51s/it]"
     ]
    },
    {
     "name": "stdout",
     "output_type": "stream",
     "text": [
      "Epoch: 65, Train Loss: 107.2909, Valid Loss: 245.1059 Time 00:03:49\n"
     ]
    },
    {
     "name": "stderr",
     "output_type": "stream",
     "text": [
      " 70%|███████   | 70/100 [3:05:01<23:46, 47.54s/it]"
     ]
    },
    {
     "name": "stdout",
     "output_type": "stream",
     "text": [
      "Epoch: 70, Train Loss: 107.2347, Valid Loss: 499.8358 Time 00:03:59\n"
     ]
    },
    {
     "name": "stderr",
     "output_type": "stream",
     "text": [
      " 75%|███████▌  | 75/100 [3:08:55<19:39, 47.18s/it]"
     ]
    },
    {
     "name": "stdout",
     "output_type": "stream",
     "text": [
      "Epoch: 75, Train Loss: 107.5788, Valid Loss: 125.5537 Time 00:03:54\n"
     ]
    },
    {
     "name": "stderr",
     "output_type": "stream",
     "text": [
      " 80%|████████  | 80/100 [3:12:59<16:23, 49.17s/it]"
     ]
    },
    {
     "name": "stdout",
     "output_type": "stream",
     "text": [
      "Epoch: 80, Train Loss: 107.5336, Valid Loss: 123.7200 Time 00:04:03\n"
     ]
    },
    {
     "name": "stderr",
     "output_type": "stream",
     "text": [
      " 85%|████████▌ | 85/100 [3:17:59<15:09, 60.62s/it]"
     ]
    },
    {
     "name": "stdout",
     "output_type": "stream",
     "text": [
      "Epoch: 85, Train Loss: 95.7197, Valid Loss: 93.2479 Time 00:04:59\n"
     ]
    },
    {
     "name": "stderr",
     "output_type": "stream",
     "text": [
      " 90%|█████████ | 90/100 [3:24:02<11:54, 71.40s/it]"
     ]
    },
    {
     "name": "stdout",
     "output_type": "stream",
     "text": [
      "Epoch: 90, Train Loss: 94.2338, Valid Loss: 90.6328 Time 00:06:03\n"
     ]
    },
    {
     "name": "stderr",
     "output_type": "stream",
     "text": [
      " 95%|█████████▌| 95/100 [3:29:01<05:08, 61.62s/it]"
     ]
    },
    {
     "name": "stdout",
     "output_type": "stream",
     "text": [
      "Epoch: 95, Train Loss: 93.2949, Valid Loss: 89.8729 Time 00:04:59\n"
     ]
    },
    {
     "name": "stderr",
     "output_type": "stream",
     "text": [
      "100%|██████████| 100/100 [3:34:27<00:00, 65.20s/it]"
     ]
    },
    {
     "name": "stdout",
     "output_type": "stream",
     "text": [
      "Epoch: 100, Train Loss: 91.5869, Valid Loss: 87.4893 Time 00:05:25\n"
     ]
    },
    {
     "name": "stderr",
     "output_type": "stream",
     "text": [
      "\n"
     ]
    },
    {
     "ename": "RuntimeError",
     "evalue": "dimension specified as 0 but tensor has no dimensions",
     "output_type": "error",
     "traceback": [
      "\u001b[0;31m---------------------------------------------------------------------------\u001b[0m",
      "\u001b[0;31mRuntimeError\u001b[0m                              Traceback (most recent call last)",
      "\u001b[0;32m<ipython-input-1-c283c2273051>\u001b[0m in \u001b[0;36m<module>\u001b[0;34m\u001b[0m\n\u001b[1;32m    223\u001b[0m     \u001b[0mnet\u001b[0m\u001b[0;34m.\u001b[0m\u001b[0mtrain\u001b[0m\u001b[0;34m(\u001b[0m\u001b[0;34m)\u001b[0m\u001b[0;34m\u001b[0m\u001b[0;34m\u001b[0m\u001b[0m\n\u001b[1;32m    224\u001b[0m \u001b[0;34m\u001b[0m\u001b[0m\n\u001b[0;32m--> 225\u001b[0;31m \u001b[0mfinal_loss\u001b[0m \u001b[0;34m=\u001b[0m \u001b[0mtrain_loss\u001b[0m\u001b[0;34m[\u001b[0m\u001b[0;34m-\u001b[0m\u001b[0;36m1\u001b[0m\u001b[0;34m]\u001b[0m\u001b[0;34m\u001b[0m\u001b[0;34m\u001b[0m\u001b[0m\n\u001b[0m\u001b[1;32m    226\u001b[0m \u001b[0;34m\u001b[0m\u001b[0m\n\u001b[1;32m    227\u001b[0m \u001b[0;32mdef\u001b[0m \u001b[0msave_model\u001b[0m\u001b[0;34m(\u001b[0m\u001b[0;34m)\u001b[0m\u001b[0;34m:\u001b[0m\u001b[0;34m\u001b[0m\u001b[0;34m\u001b[0m\u001b[0m\n",
      "\u001b[0;31mRuntimeError\u001b[0m: dimension specified as 0 but tensor has no dimensions"
     ]
    }
   ],
   "source": [
    "import numpy as np\n",
    "import torch\n",
    "import torch.nn.functional as F\n",
    "from torch import optim\n",
    "from torch import autograd\n",
    "from torch.utils.data import DataLoader\n",
    "from torch import nn\n",
    "\n",
    "import matplotlib.pyplot as plt\n",
    "#%matplotlib inline\n",
    "from torchvision.datasets import MNIST\n",
    "from torchvision import transforms as tfs\n",
    "from torchvision.utils import save_image\n",
    "\n",
    "from datetime import datetime\n",
    "from tqdm import tqdm\n",
    "import os\n",
    "\n",
    "EPOCH = 100\n",
    "BATCH_SIZE = 128\n",
    "LEARNING_RATE = 1e-1\n",
    "# True表示需下载，False表示已下载\n",
    "DOWNLOAD_MNIST = False\n",
    "\n",
    "# 训练时才会标准化\n",
    "im_tfs = tfs.Compose([\n",
    "    # 先将输入归一化到(0,1)，再使用公式”(x-mean)/std”，将每个元素分布到(-1,1) \n",
    "    tfs.ToTensor(),\n",
    "    tfs.Normalize([0.5], [0.5])\n",
    "])\n",
    "\n",
    "train_set = MNIST('./mnist', transform=im_tfs, train=True, download=DOWNLOAD_MNIST)\n",
    "train_data = DataLoader(train_set, batch_size=BATCH_SIZE, shuffle=True, num_workers=2, drop_last=True)\n",
    "\n",
    "# 设置BATCH_SIZE = 128,则batch numbers = sum / 128 = 468,每次输入一个batch训练，迭代468次，为一轮\n",
    "print(len(train_data))\n",
    "\n",
    "valid_set = MNIST('./mnist', transform=im_tfs, train=False)\n",
    "valid_data = DataLoader(valid_set, batch_size=BATCH_SIZE, shuffle=False, num_workers=2, drop_last=True)\n",
    "\n",
    "\n",
    "# test_set = MNIST('./mnist', train=False)\n",
    "\n",
    "# print(train_set.data.size())\n",
    "# print(train_set.data[0])\n",
    "# print(train_set.targets.size())\n",
    "# print(train_set.targets[0])\n",
    "\n",
    "# for i, batch in enumerate(train_data):\n",
    "#     print(i)\n",
    "#     # batch[0]为数据,batch[1]为标签\n",
    "#     print(batch[0], batch[1])\n",
    "\n",
    "# plt.imshow(train_set.data[0].numpy(), cmap='gray')\n",
    "# plt.title('%i' % train_set.targets[0])\n",
    "# plt.show()\n",
    "\n",
    "class VAE(nn.Module):\n",
    "    def __init__(self, latent_num=2):\n",
    "        super(VAE, self).__init__()\n",
    "        \n",
    "#         self.fc1 = nn.Linear(28*28, 400)\n",
    "#         self.fc21 = nn.Linear(400, 20) # mean\n",
    "#         self.fc22 = nn.Linear(400, 20) # var\n",
    "#         self.fc3 = nn.Linear(20, 400)\n",
    "#         self.fc4 = nn.Linear(400, 28*28)\n",
    "        \n",
    "        self.encoder = nn.Sequential(\n",
    "            nn.Linear(28*28, 400),\n",
    "            nn.BatchNorm1d(400),\n",
    "            nn.ReLU(),\n",
    "            #nn.Dropout(p=0.2),\n",
    "            #nn.Linear(400,100),\n",
    "            #nn.BatchNorm1d(100),\n",
    "            #nn.ReLU(),\n",
    "            #nn.Dropout(p=0.2),\n",
    "        )\n",
    "        \n",
    "        self.fc1 = nn.Linear(400, 20)\n",
    "        self.fc2 = nn.Linear(400, 20)\n",
    "        \n",
    "        self.decoder = nn.Sequential(\n",
    "            nn.Linear(20, 400),\n",
    "            nn.BatchNorm1d(400),\n",
    "            nn.ReLU(),\n",
    "            #nn.Dropout(p=0.2),\n",
    "            #nn.Linear(100,400),\n",
    "            #nn.BatchNorm1d(400),\n",
    "            #nn.ReLU(),\n",
    "            #nn.Dropout(p=0.2),\n",
    "            nn.Linear(400, 28*28),\n",
    "            nn.Tanh()\n",
    "        )\n",
    "\n",
    "    # q(z|x)\n",
    "    def encode_q(self, x):\n",
    "        h1 = self.encoder(x)\n",
    "        return self.fc1(h1), self.fc2(h1)\n",
    "    \n",
    "    # 重参数化，使网络可以反向传播\n",
    "    def reparametrize(self, mu, logvar):\n",
    "        # mul逐乘\n",
    "        # exp逐指数\n",
    "        # exp_是exp的in-place形式\n",
    "        std = logvar.mul(0.5).exp_()\n",
    "        eps = torch.FloatTensor(std.size()).normal_()\n",
    "        if torch.cuda.is_available():\n",
    "            eps = eps.cuda()\n",
    "        # z = mu + sigma * eps\n",
    "        return eps.mul(std).add_(mu)\n",
    "    \n",
    "    # p(x|z)\n",
    "    def decoder_p(self, z):\n",
    "        h2 = self.decoder(z)\n",
    "        return h2\n",
    "\n",
    "    def forward(self, x):\n",
    "        mu, logvar = self.encode_q(x)\n",
    "        z = self.reparametrize(mu, logvar)\n",
    "        # 解码，同时输出均值和方差\n",
    "        return self.decoder_p(z), mu, logvar \n",
    "\n",
    "\n",
    "net = VAE()\n",
    "print(net)\n",
    "if torch.cuda.is_available():\n",
    "    net = net.cuda()\n",
    "\n",
    "reconstruction_function = nn.MSELoss(reduction='sum')\n",
    "\n",
    "def loss_function(recon_x, x, mu, logvar):\n",
    "    MSE = reconstruction_function(recon_x, x)\n",
    "    # loss = 0.5 * sum(1 + log(sigma^2) - mu^2 - sigma^2)\n",
    "    KLD_element = mu.pow(2).add_(logvar.exp()).mul_(-1).add_(1).add_(logvar)\n",
    "    KLD = torch.sum(KLD_element).mul_(-0.5)\n",
    "    # KL divergence\n",
    "    return MSE + KLD\n",
    "\n",
    "optimizer = optim.Adam(net.parameters(), lr=LEARNING_RATE, weight_decay=1e-3) # 添加正则项，替代dropout\n",
    "\n",
    "def to_img(x):\n",
    "    x = 0.5 * (x + 1.)\n",
    "    x = x.clamp(0, 1)\n",
    "    x = x.view(x.shape[0],1,28,28)\n",
    "    return x\n",
    "\n",
    "# optimizer.param_groups[0]\n",
    "# 是其中一个参数组，包括['lr']和['weight_decay']\n",
    "# 可以直接赋值修改参数\n",
    "# 防止有多个参数组，故使用循环\n",
    "\n",
    "def set_learning_rate(optimizer, lr):\n",
    "    for param_group in optimizer.param_groups:\n",
    "        param_group['lr'] = lr\n",
    "        \n",
    "\n",
    "train_losses = []\n",
    "valid_losses = []\n",
    "\n",
    "prev_time = datetime.now()\n",
    "\n",
    "for e in tqdm(range(EPOCH)):\n",
    "    if e == 80:\n",
    "        set_learning_rate(optimizer, 0.01) # 80 次修改学习率为 0.01\n",
    "    \n",
    "    train_loss = 0\n",
    "    for i, batch in enumerate(train_data):\n",
    "        # print(i)\n",
    "        # batch[0]为数据,batch[1]为标签\n",
    "        # print(batch[0], batch[1])\n",
    "        \n",
    "#         if torch.cuda.is_available():\n",
    "#             batch = batch.cuda()\n",
    "        img = batch[0].view(BATCH_SIZE, -1)\n",
    "        #print(img.size())\n",
    "        recon_img, mu, logvar = net(img)\n",
    "        #print(img)\n",
    "        #print(recon_img.size())\n",
    "        loss = loss_function(recon_img, img, mu, logvar) / BATCH_SIZE\n",
    "        \n",
    "        train_loss += loss.data\n",
    "        \n",
    "        optimizer.zero_grad()\n",
    "        loss.backward()\n",
    "        optimizer.step()\n",
    "        \n",
    "    \n",
    "    train_loss /= len(train_data)\n",
    "    train_losses.append(train_loss)\n",
    "    \n",
    "    valid_loss = 0\n",
    "    \n",
    "    net.eval()\n",
    "    for batch in valid_data:\n",
    "        img = batch[0].view(BATCH_SIZE, -1)\n",
    "        recon_img, mu, logvar = net(img)\n",
    "        loss = loss_function(recon_img, img, mu, logvar) / BATCH_SIZE\n",
    "        \n",
    "        valid_loss += loss.data\n",
    "    \n",
    "    valid_loss /= len(valid_data)\n",
    "    valid_losses.append(valid_loss)\n",
    "    \n",
    "    \n",
    "    if (e + 1) % 5 == 0:\n",
    "        # 测验模式，不使用dropout\n",
    "        # net.eval()\n",
    "        \n",
    "        cur_time = datetime.now()\n",
    "        h, remainder = divmod((cur_time - prev_time).seconds, 3600)\n",
    "        m, s = divmod(remainder, 60)\n",
    "        time_str = \"Time %02d:%02d:%02d\" % (h, m, s)\n",
    "        \n",
    "        prev_time = cur_time\n",
    "\n",
    "        print('Epoch: {}, Train Loss: {:.4f}, Valid Loss: {:.4f} '.format(e + 1, train_loss, valid_loss) + time_str)\n",
    "        save = to_img(recon_img.cpu().data)\n",
    "        if not os.path.exists('./vae_img_3'):\n",
    "            os.mkdir('./vae_img_3')\n",
    "        save_image(save, './vae_img_3/image_{}.png'.format(e + 1))\n",
    "\n",
    "        # 返回train模式\n",
    "    net.train()\n",
    "        \n",
    "final_loss = train_loss[-1]\n",
    "\n",
    "def save_model():\n",
    "    # entire net\n",
    "    torch.save(net, 'VAE_net1_l2_valid_' + final_loss + '.pkl')\n",
    "    # parameters\n",
    "    torch.save(net.state_dict(), 'VAE_net1_params_l2_valid_' + final_loss + '.pkl')\n",
    "    \n",
    "def restore_net():\n",
    "    net2 = torch.load('VAE_net1.pkl')\n",
    "    net2.eval()\n",
    "    \n",
    "def restore_params():\n",
    "    # 要与原net的结构一样\n",
    "    net3 = VAE(*args, **kwargs)\n",
    "    net3.load_state_dict(torch.load('VAE_net1_params.pkl'))\n",
    "    net3.eval()\n",
    "    \n",
    "save_model()"
   ]
  },
  {
   "cell_type": "code",
   "execution_count": 4,
   "metadata": {},
   "outputs": [
    {
     "data": {
      "text/plain": [
       "tensor(91.5869)"
      ]
     },
     "execution_count": 4,
     "metadata": {},
     "output_type": "execute_result"
    }
   ],
   "source": [
    "final_loss = train_losses[-1]\n",
    "final_loss"
   ]
  },
  {
   "cell_type": "code",
   "execution_count": 6,
   "metadata": {},
   "outputs": [
    {
     "name": "stderr",
     "output_type": "stream",
     "text": [
      "/home/pyn/anaconda3/lib/python3.7/site-packages/torch/serialization.py:251: UserWarning: Couldn't retrieve source code for container of type VAE. It won't be checked for correctness upon loading.\n",
      "  \"type \" + obj.__name__ + \". It won't be checked \"\n"
     ]
    }
   ],
   "source": [
    "def save_model():\n",
    "    # entire net\n",
    "    torch.save(net, 'VAE_net1_l2_valid_' + str(final_loss) + '.pkl')\n",
    "    # parameters\n",
    "    torch.save(net.state_dict(), 'VAE_net1_params_l2_valid_' + str(final_loss) + '.pkl')\n",
    "    \n",
    "def restore_net():\n",
    "    net2 = torch.load('VAE_net1.pkl')\n",
    "    net2.eval()\n",
    "    \n",
    "def restore_params():\n",
    "    # 要与原net的结构一样\n",
    "    net3 = VAE(*args, **kwargs)\n",
    "    net3.load_state_dict(torch.load('VAE_net1_params.pkl'))\n",
    "    net3.eval()\n",
    "    \n",
    "save_model()"
   ]
  },
  {
   "cell_type": "code",
   "execution_count": 17,
   "metadata": {
    "scrolled": true
   },
   "outputs": [
    {
     "data": {
      "text/plain": [
       "[tensor(1560.3199),\n",
       " tensor(118.7586),\n",
       " tensor(115.8807),\n",
       " tensor(114.3053),\n",
       " tensor(113.2960),\n",
       " tensor(112.3557),\n",
       " tensor(111.3459),\n",
       " tensor(110.9344),\n",
       " tensor(110.0083),\n",
       " tensor(109.8307),\n",
       " tensor(108.5725),\n",
       " tensor(108.4840),\n",
       " tensor(108.5328),\n",
       " tensor(108.0727),\n",
       " tensor(108.0840),\n",
       " tensor(107.3297),\n",
       " tensor(106.8887),\n",
       " tensor(106.9437),\n",
       " tensor(106.9933),\n",
       " tensor(106.8535),\n",
       " tensor(106.5742),\n",
       " tensor(107.0459),\n",
       " tensor(106.5960),\n",
       " tensor(107.3749),\n",
       " tensor(106.4245),\n",
       " tensor(106.8382),\n",
       " tensor(106.9010),\n",
       " tensor(106.6839),\n",
       " tensor(106.5239),\n",
       " tensor(106.6003),\n",
       " tensor(106.1492),\n",
       " tensor(106.3891),\n",
       " tensor(106.3152),\n",
       " tensor(106.6115),\n",
       " tensor(106.7299),\n",
       " tensor(106.9112),\n",
       " tensor(107.0564),\n",
       " tensor(107.0203),\n",
       " tensor(107.3491),\n",
       " tensor(107.2746),\n",
       " tensor(107.1232),\n",
       " tensor(107.5030),\n",
       " tensor(107.3316),\n",
       " tensor(107.3939),\n",
       " tensor(107.6880),\n",
       " tensor(107.1354),\n",
       " tensor(107.5346),\n",
       " tensor(107.7095),\n",
       " tensor(107.6975),\n",
       " tensor(107.6423),\n",
       " tensor(107.2546),\n",
       " tensor(107.4755),\n",
       " tensor(107.4174),\n",
       " tensor(107.1019),\n",
       " tensor(107.5606),\n",
       " tensor(107.4542),\n",
       " tensor(107.4022),\n",
       " tensor(107.3726),\n",
       " tensor(107.8735),\n",
       " tensor(107.2786),\n",
       " tensor(107.1816),\n",
       " tensor(107.5696),\n",
       " tensor(107.5666),\n",
       " tensor(107.4859),\n",
       " tensor(107.2909),\n",
       " tensor(107.4096),\n",
       " tensor(107.4639),\n",
       " tensor(107.6802),\n",
       " tensor(107.3851),\n",
       " tensor(107.2347),\n",
       " tensor(107.6451),\n",
       " tensor(107.5022),\n",
       " tensor(107.4398),\n",
       " tensor(107.3367),\n",
       " tensor(107.5788),\n",
       " tensor(107.8982),\n",
       " tensor(107.3368),\n",
       " tensor(107.5214),\n",
       " tensor(107.9316),\n",
       " tensor(107.5336),\n",
       " tensor(97.5056),\n",
       " tensor(96.4571),\n",
       " tensor(96.1818),\n",
       " tensor(95.8845),\n",
       " tensor(95.7197),\n",
       " tensor(95.4523),\n",
       " tensor(95.2241),\n",
       " tensor(94.8201),\n",
       " tensor(94.4781),\n",
       " tensor(94.2338),\n",
       " tensor(93.8175),\n",
       " tensor(93.6370),\n",
       " tensor(93.5337),\n",
       " tensor(93.5654),\n",
       " tensor(93.2949),\n",
       " tensor(93.0338),\n",
       " tensor(93.0466),\n",
       " tensor(92.8548),\n",
       " tensor(92.3810),\n",
       " tensor(91.5869)]"
      ]
     },
     "execution_count": 17,
     "metadata": {},
     "output_type": "execute_result"
    }
   ],
   "source": [
    "train_losses"
   ]
  },
  {
   "cell_type": "code",
   "execution_count": 18,
   "metadata": {
    "scrolled": true
   },
   "outputs": [
    {
     "data": {
      "text/plain": [
       "[tensor(124.8084),\n",
       " tensor(116.7136),\n",
       " tensor(115.6606),\n",
       " tensor(113.8687),\n",
       " tensor(115.8748),\n",
       " tensor(127.4215),\n",
       " tensor(114.4712),\n",
       " tensor(112.3909),\n",
       " tensor(112.7977),\n",
       " 200,\n",
       " tensor(109.6787),\n",
       " tensor(119.6270),\n",
       " tensor(117.1265),\n",
       " tensor(119.0751),\n",
       " tensor(114.8276),\n",
       " tensor(109.6793),\n",
       " tensor(110.9472),\n",
       " tensor(110.4826),\n",
       " 200,\n",
       " tensor(109.4317),\n",
       " tensor(107.7714),\n",
       " tensor(110.5009),\n",
       " tensor(110.8305),\n",
       " tensor(105.5956),\n",
       " tensor(108.8360),\n",
       " 200,\n",
       " tensor(115.9367),\n",
       " tensor(139.5329),\n",
       " tensor(113.0869),\n",
       " 200,\n",
       " tensor(153.9550),\n",
       " 200,\n",
       " tensor(181.0681),\n",
       " tensor(109.7185),\n",
       " tensor(118.6196),\n",
       " 200,\n",
       " 200,\n",
       " tensor(114.0000),\n",
       " tensor(107.9207),\n",
       " tensor(114.9721),\n",
       " 200,\n",
       " tensor(110.7580),\n",
       " tensor(118.7852),\n",
       " tensor(110.1741),\n",
       " 200,\n",
       " tensor(142.8269),\n",
       " 200,\n",
       " tensor(173.3553),\n",
       " 200,\n",
       " tensor(nan),\n",
       " 200,\n",
       " tensor(109.0337),\n",
       " tensor(143.7965),\n",
       " tensor(199.5634),\n",
       " 200,\n",
       " 200,\n",
       " tensor(165.8496),\n",
       " 200,\n",
       " tensor(156.8624),\n",
       " tensor(106.7498),\n",
       " 200,\n",
       " 200,\n",
       " 200,\n",
       " 200,\n",
       " 200,\n",
       " 200,\n",
       " tensor(108.8971),\n",
       " tensor(119.5743),\n",
       " tensor(138.4184),\n",
       " 200,\n",
       " 200,\n",
       " 200,\n",
       " 200,\n",
       " 200,\n",
       " tensor(125.5537),\n",
       " tensor(122.6647),\n",
       " tensor(149.4006),\n",
       " tensor(128.1995),\n",
       " 200,\n",
       " tensor(123.7200),\n",
       " tensor(93.8529),\n",
       " tensor(92.7640),\n",
       " tensor(92.5808),\n",
       " tensor(92.2647),\n",
       " tensor(93.2479),\n",
       " tensor(92.2442),\n",
       " tensor(92.1266),\n",
       " tensor(91.0146),\n",
       " tensor(90.7839),\n",
       " tensor(90.6328),\n",
       " tensor(90.6619),\n",
       " tensor(90.8940),\n",
       " tensor(90.3001),\n",
       " tensor(89.8694),\n",
       " tensor(89.8729),\n",
       " tensor(89.6518),\n",
       " tensor(90.4842),\n",
       " tensor(88.5282),\n",
       " tensor(89.1388),\n",
       " tensor(87.4893)]"
      ]
     },
     "execution_count": 18,
     "metadata": {},
     "output_type": "execute_result"
    }
   ],
   "source": [
    "valid_losses"
   ]
  },
  {
   "cell_type": "code",
   "execution_count": 19,
   "metadata": {
    "scrolled": true
   },
   "outputs": [],
   "source": [
    "# [a.numpy() for a in train_losses]\n",
    "# [a.numpy() for a in valid_losses]\n",
    "# for i, a in enumerate(valid_losses):\n",
    "#     if a > 200:\n",
    "#         valid_losses[i] = np.array([200])"
   ]
  },
  {
   "cell_type": "code",
   "execution_count": 20,
   "metadata": {},
   "outputs": [
    {
     "data": {
      "text/plain": [
       "<matplotlib.legend.Legend at 0x7f04b5716e10>"
      ]
     },
     "execution_count": 20,
     "metadata": {},
     "output_type": "execute_result"
    },
    {
     "data": {
      "image/png": "[encoded data removed]",
      "text/plain": [
       "<Figure size 1440x720 with 1 Axes>"
      ]
     },
     "metadata": {
      "needs_background": "light"
     },
     "output_type": "display_data"
    }
   ],
   "source": [
    "import matplotlib.pyplot as plt\n",
    "%matplotlib inline\n",
    "\n",
    "plt.figure(figsize=(20, 10))\n",
    "plt.plot(train_losses, label='train')\n",
    "plt.plot(valid_losses, label='valid')\n",
    "plt.xlabel('epoch')\n",
    "plt.legend(loc='best')"
   ]
  },
  {
   "cell_type": "code",
   "execution_count": null,
   "metadata": {},
   "outputs": [],
   "source": []
  }
 ],
 "metadata": {
  "kernelspec": {
   "display_name": "Python 3",
   "language": "python",
   "name": "python3"
  },
  "language_info": {
   "codemirror_mode": {
    "name": "ipython",
    "version": 3
   },
   "file_extension": ".py",
   "mimetype": "text/x-python",
   "name": "python",
   "nbconvert_exporter": "python",
   "pygments_lexer": "ipython3",
   "version": "3.7.1"
  }
 },
 "nbformat": 4,
 "nbformat_minor": 2
}
